{
 "cells": [
  {
   "cell_type": "code",
   "execution_count": 236,
   "metadata": {},
   "outputs": [],
   "source": [
    "# Import Meteostat library and dependencies\n",
    "import os\n",
    "from datetime import datetime\n",
    "import matplotlib.pyplot as plt\n",
    "import pandas as pd\n",
    "import numpy as np\n",
    "from selenium import webdriver\n",
    "from selenium.webdriver.firefox.service import Service\n",
    "from selenium.webdriver.support.ui import WebDriverWait\n",
    "from selenium.webdriver.support import expected_conditions as EC\n",
    "from selenium.webdriver.common.by import By\n",
    "from selenium.webdriver import ActionChains\n",
    "import time"
   ]
  },
  {
   "cell_type": "code",
   "execution_count": 237,
   "metadata": {},
   "outputs": [],
   "source": [
    "service = Service()\n",
    "options = webdriver.FirefoxOptions()\n",
    "driver = webdriver.Firefox(service=service, options=options)"
   ]
  },
  {
   "cell_type": "code",
   "execution_count": 238,
   "metadata": {},
   "outputs": [],
   "source": [
    "driver.get(\"https://aqicn.org/map/bangkok/\")"
   ]
  },
  {
   "cell_type": "code",
   "execution_count": 239,
   "metadata": {},
   "outputs": [
    {
     "data": {
      "text/plain": [
       "[<selenium.webdriver.remote.webelement.WebElement (session=\"ac8ffb33-0c74-4549-b8b3-c1376707ce12\", element=\"4e23735b-b608-4262-88e1-0785354207b1\")>]"
      ]
     },
     "execution_count": 239,
     "metadata": {},
     "output_type": "execute_result"
    }
   ],
   "source": [
    "parent_element = driver.find_elements(By.ID, \"map_canvas\")\n",
    "parent_element\n"
   ]
  },
  {
   "cell_type": "code",
   "execution_count": 240,
   "metadata": {},
   "outputs": [
    {
     "data": {
      "text/plain": [
       "[<selenium.webdriver.remote.webelement.WebElement (session=\"ac8ffb33-0c74-4549-b8b3-c1376707ce12\", element=\"718a045e-a55d-4d62-b13e-aef3bb47e4c7\")>]"
      ]
     },
     "execution_count": 240,
     "metadata": {},
     "output_type": "execute_result"
    }
   ],
   "source": [
    "canva_ele = parent_element[0].find_elements(By.TAG_NAME, \"canvas\")\n",
    "canva_ele"
   ]
  },
  {
   "cell_type": "code",
   "execution_count": 241,
   "metadata": {},
   "outputs": [
    {
     "data": {
      "text/plain": [
       "[<selenium.webdriver.remote.webelement.WebElement (session=\"ac8ffb33-0c74-4549-b8b3-c1376707ce12\", element=\"a532e5fb-4b85-4022-8a61-554c8732a22f\")>]"
      ]
     },
     "execution_count": 241,
     "metadata": {},
     "output_type": "execute_result"
    }
   ],
   "source": [
    "extreme_p = parent_element[0].find_elements(By.XPATH, \"//div[@class='leaflet-pixi-overlay leaflet-zoom-animated']\")\n",
    "extreme_p"
   ]
  },
  {
   "cell_type": "code",
   "execution_count": 242,
   "metadata": {},
   "outputs": [],
   "source": [
    "# extreme_p[0].click()"
   ]
  },
  {
   "cell_type": "code",
   "execution_count": 243,
   "metadata": {},
   "outputs": [
    {
     "data": {
      "text/plain": [
       "('1546', '2688')"
      ]
     },
     "execution_count": 243,
     "metadata": {},
     "output_type": "execute_result"
    }
   ],
   "source": [
    "height = canva_ele[0].get_attribute('height')\n",
    "width = canva_ele[0].get_attribute('width')\n",
    "\n",
    "height, width"
   ]
  },
  {
   "cell_type": "code",
   "execution_count": 244,
   "metadata": {},
   "outputs": [],
   "source": [
    "# actions = ActionChains(driver)\n",
    "# actions.move_to_element(parent_element[0]).perform()\n",
    "# actions.move_to_element_with_offset(parent_element[0],int(width),int(height)).perform()\n",
    "\n",
    "# c = parent_element[0].find_elements\n",
    "# for step_h in range(1, int(height) - 1):\n",
    "#     print(f\"Click Position for Step {step_h}: ({x_}, {y_})\")\n",
    "#     y_ = int(y_) + 1\n",
    "#     for step_w in range(1, int(width) - 1):\n",
    "#         x_ = int(x_) + 1\n",
    "#         print(f\"Click Position for Step {step_w}: ({x_}, {y_})\")\n",
    "\n"
   ]
  },
  {
   "cell_type": "code",
   "execution_count": 245,
   "metadata": {},
   "outputs": [],
   "source": [
    "# height = canva_ele[0].size['height']\n",
    "# width = canva_ele[0].size['width']\n",
    "# height, width"
   ]
  },
  {
   "cell_type": "code",
   "execution_count": 246,
   "metadata": {},
   "outputs": [
    {
     "name": "stdout",
     "output_type": "stream",
     "text": [
      "Viewport Size: 1280 x 832\n",
      "Click Position: (0, 0)\n",
      "No tooltip at (0, 0)\n"
     ]
    },
    {
     "ename": "MoveTargetOutOfBoundsException",
     "evalue": "Message: Move target (-55, 51) is out of bounds of viewport dimensions (1280, 832)\nStacktrace:\nRemoteError@chrome://remote/content/shared/RemoteError.sys.mjs:8:8\nWebDriverError@chrome://remote/content/shared/webdriver/Errors.sys.mjs:193:5\nMoveTargetOutOfBoundsError@chrome://remote/content/shared/webdriver/Errors.sys.mjs:479:5\nassertInViewPort@chrome://remote/content/shared/webdriver/Actions.sys.mjs:2380:11\ndispatch@chrome://remote/content/shared/webdriver/Actions.sys.mjs:1161:21\ndispatch/pendingEvents<@chrome://remote/content/shared/webdriver/Actions.sys.mjs:2036:14\ndispatch@chrome://remote/content/shared/webdriver/Actions.sys.mjs:2035:39\ndispatch/chainEvents<@chrome://remote/content/shared/webdriver/Actions.sys.mjs:1946:27\ndispatch@chrome://remote/content/shared/webdriver/Actions.sys.mjs:1948:7\nperformActions@chrome://remote/content/marionette/actors/MarionetteCommandsChild.sys.mjs:491:23\nreceiveMessage@chrome://remote/content/marionette/actors/MarionetteCommandsChild.sys.mjs:144:31\n",
     "output_type": "error",
     "traceback": [
      "\u001b[1;31m---------------------------------------------------------------------------\u001b[0m",
      "\u001b[1;31mMoveTargetOutOfBoundsException\u001b[0m            Traceback (most recent call last)",
      "Cell \u001b[1;32mIn[246], line 38\u001b[0m\n\u001b[0;32m     34\u001b[0m         \u001b[38;5;28;01mexcept\u001b[39;00m:\n\u001b[0;32m     35\u001b[0m             \u001b[38;5;66;03m# No tooltip found; continue to next position\u001b[39;00m\n\u001b[0;32m     36\u001b[0m             \u001b[38;5;28mprint\u001b[39m(\u001b[38;5;124mf\u001b[39m\u001b[38;5;124m\"\u001b[39m\u001b[38;5;124mNo tooltip at (\u001b[39m\u001b[38;5;132;01m{\u001b[39;00mx\u001b[38;5;132;01m}\u001b[39;00m\u001b[38;5;124m, \u001b[39m\u001b[38;5;132;01m{\u001b[39;00my\u001b[38;5;132;01m}\u001b[39;00m\u001b[38;5;124m)\u001b[39m\u001b[38;5;124m\"\u001b[39m)\n\u001b[1;32m---> 38\u001b[0m         \u001b[43mactions\u001b[49m\u001b[38;5;241;43m.\u001b[39;49m\u001b[43mmove_to_element_with_offset\u001b[49m\u001b[43m(\u001b[49m\u001b[43mcanva_ele\u001b[49m\u001b[43m[\u001b[49m\u001b[38;5;241;43m0\u001b[39;49m\u001b[43m]\u001b[49m\u001b[43m,\u001b[49m\u001b[43m \u001b[49m\u001b[43mx_\u001b[49m\u001b[43m,\u001b[49m\u001b[43m \u001b[49m\u001b[43my_\u001b[49m\u001b[43m \u001b[49m\u001b[43m)\u001b[49m\u001b[38;5;241;43m.\u001b[39;49m\u001b[43mperform\u001b[49m\u001b[43m(\u001b[49m\u001b[43m)\u001b[49m\n\u001b[0;32m     40\u001b[0m driver\u001b[38;5;241m.\u001b[39mquit()\n",
      "File \u001b[1;32mc:\\Users\\Bidhan\\Anaconda3\\envs\\ait\\Lib\\site-packages\\selenium\\webdriver\\common\\action_chains.py:79\u001b[0m, in \u001b[0;36mActionChains.perform\u001b[1;34m(self)\u001b[0m\n\u001b[0;32m     75\u001b[0m \u001b[38;5;28;01mdef\u001b[39;00m \u001b[38;5;21mperform\u001b[39m(\u001b[38;5;28mself\u001b[39m):\n\u001b[0;32m     76\u001b[0m \u001b[38;5;250m    \u001b[39m\u001b[38;5;124;03m\"\"\"\u001b[39;00m\n\u001b[0;32m     77\u001b[0m \u001b[38;5;124;03m    Performs all stored actions.\u001b[39;00m\n\u001b[0;32m     78\u001b[0m \u001b[38;5;124;03m    \"\"\"\u001b[39;00m\n\u001b[1;32m---> 79\u001b[0m     \u001b[38;5;28;43mself\u001b[39;49m\u001b[38;5;241;43m.\u001b[39;49m\u001b[43mw3c_actions\u001b[49m\u001b[38;5;241;43m.\u001b[39;49m\u001b[43mperform\u001b[49m\u001b[43m(\u001b[49m\u001b[43m)\u001b[49m\n",
      "File \u001b[1;32mc:\\Users\\Bidhan\\Anaconda3\\envs\\ait\\Lib\\site-packages\\selenium\\webdriver\\common\\actions\\action_builder.py:88\u001b[0m, in \u001b[0;36mActionBuilder.perform\u001b[1;34m(self)\u001b[0m\n\u001b[0;32m     86\u001b[0m         enc[\u001b[38;5;124m\"\u001b[39m\u001b[38;5;124mactions\u001b[39m\u001b[38;5;124m\"\u001b[39m]\u001b[38;5;241m.\u001b[39mappend(encoded)\n\u001b[0;32m     87\u001b[0m         device\u001b[38;5;241m.\u001b[39mactions \u001b[38;5;241m=\u001b[39m []\n\u001b[1;32m---> 88\u001b[0m \u001b[38;5;28;43mself\u001b[39;49m\u001b[38;5;241;43m.\u001b[39;49m\u001b[43mdriver\u001b[49m\u001b[38;5;241;43m.\u001b[39;49m\u001b[43mexecute\u001b[49m\u001b[43m(\u001b[49m\u001b[43mCommand\u001b[49m\u001b[38;5;241;43m.\u001b[39;49m\u001b[43mW3C_ACTIONS\u001b[49m\u001b[43m,\u001b[49m\u001b[43m \u001b[49m\u001b[43menc\u001b[49m\u001b[43m)\u001b[49m\n",
      "File \u001b[1;32mc:\\Users\\Bidhan\\Anaconda3\\envs\\ait\\Lib\\site-packages\\selenium\\webdriver\\remote\\webdriver.py:430\u001b[0m, in \u001b[0;36mWebDriver.execute\u001b[1;34m(self, driver_command, params)\u001b[0m\n\u001b[0;32m    428\u001b[0m response \u001b[38;5;241m=\u001b[39m \u001b[38;5;28mself\u001b[39m\u001b[38;5;241m.\u001b[39mcommand_executor\u001b[38;5;241m.\u001b[39mexecute(driver_command, params)\n\u001b[0;32m    429\u001b[0m \u001b[38;5;28;01mif\u001b[39;00m response:\n\u001b[1;32m--> 430\u001b[0m     \u001b[38;5;28;43mself\u001b[39;49m\u001b[38;5;241;43m.\u001b[39;49m\u001b[43merror_handler\u001b[49m\u001b[38;5;241;43m.\u001b[39;49m\u001b[43mcheck_response\u001b[49m\u001b[43m(\u001b[49m\u001b[43mresponse\u001b[49m\u001b[43m)\u001b[49m\n\u001b[0;32m    431\u001b[0m     response[\u001b[38;5;124m'\u001b[39m\u001b[38;5;124mvalue\u001b[39m\u001b[38;5;124m'\u001b[39m] \u001b[38;5;241m=\u001b[39m \u001b[38;5;28mself\u001b[39m\u001b[38;5;241m.\u001b[39m_unwrap_value(\n\u001b[0;32m    432\u001b[0m         response\u001b[38;5;241m.\u001b[39mget(\u001b[38;5;124m'\u001b[39m\u001b[38;5;124mvalue\u001b[39m\u001b[38;5;124m'\u001b[39m, \u001b[38;5;28;01mNone\u001b[39;00m))\n\u001b[0;32m    433\u001b[0m     \u001b[38;5;28;01mreturn\u001b[39;00m response\n",
      "File \u001b[1;32mc:\\Users\\Bidhan\\Anaconda3\\envs\\ait\\Lib\\site-packages\\selenium\\webdriver\\remote\\errorhandler.py:247\u001b[0m, in \u001b[0;36mErrorHandler.check_response\u001b[1;34m(self, response)\u001b[0m\n\u001b[0;32m    245\u001b[0m         alert_text \u001b[38;5;241m=\u001b[39m value[\u001b[38;5;124m'\u001b[39m\u001b[38;5;124malert\u001b[39m\u001b[38;5;124m'\u001b[39m]\u001b[38;5;241m.\u001b[39mget(\u001b[38;5;124m'\u001b[39m\u001b[38;5;124mtext\u001b[39m\u001b[38;5;124m'\u001b[39m)\n\u001b[0;32m    246\u001b[0m     \u001b[38;5;28;01mraise\u001b[39;00m exception_class(message, screen, stacktrace, alert_text)  \u001b[38;5;66;03m# type: ignore[call-arg]  # mypy is not smart enough here\u001b[39;00m\n\u001b[1;32m--> 247\u001b[0m \u001b[38;5;28;01mraise\u001b[39;00m exception_class(message, screen, stacktrace)\n",
      "\u001b[1;31mMoveTargetOutOfBoundsException\u001b[0m: Message: Move target (-55, 51) is out of bounds of viewport dimensions (1280, 832)\nStacktrace:\nRemoteError@chrome://remote/content/shared/RemoteError.sys.mjs:8:8\nWebDriverError@chrome://remote/content/shared/webdriver/Errors.sys.mjs:193:5\nMoveTargetOutOfBoundsError@chrome://remote/content/shared/webdriver/Errors.sys.mjs:479:5\nassertInViewPort@chrome://remote/content/shared/webdriver/Actions.sys.mjs:2380:11\ndispatch@chrome://remote/content/shared/webdriver/Actions.sys.mjs:1161:21\ndispatch/pendingEvents<@chrome://remote/content/shared/webdriver/Actions.sys.mjs:2036:14\ndispatch@chrome://remote/content/shared/webdriver/Actions.sys.mjs:2035:39\ndispatch/chainEvents<@chrome://remote/content/shared/webdriver/Actions.sys.mjs:1946:27\ndispatch@chrome://remote/content/shared/webdriver/Actions.sys.mjs:1948:7\nperformActions@chrome://remote/content/marionette/actors/MarionetteCommandsChild.sys.mjs:491:23\nreceiveMessage@chrome://remote/content/marionette/actors/MarionetteCommandsChild.sys.mjs:144:31\n"
     ]
    }
   ],
   "source": [
    "actions = ActionChains(driver)\n",
    "\n",
    "map_width, map_height = int(width), int(height) \n",
    "\n",
    "viewport_width = driver.execute_script(\"return window.innerWidth\")\n",
    "viewport_height = driver.execute_script(\"return window.innerHeight\")\n",
    "print(f\"Viewport Size: {viewport_width} x {viewport_height}\")\n",
    "\n",
    "actions.move_to_element_with_offset(extreme_p[0], 0, 0).perform()\n",
    "\n",
    "x_ = 0\n",
    "y_ = 0\n",
    "\n",
    "# Loop through each \"column\" of pixels from left to right\n",
    "for x in range(0, map_width):\n",
    "    x_ = int(x_) + 1\n",
    "    for y in range(0, map_height):\n",
    "        y_ = int(y_) + 1\n",
    "        if x >= map_width or y >= map_height:\n",
    "            print(f\"Click Position {x}, {y} is out of viewport bounds.\")\n",
    "            continue\n",
    "\n",
    "        print(f\"Click Position: ({x}, {y})\")\n",
    "        # Move to each (x, y) position within the map\n",
    "\n",
    "        time.sleep(0.5)  # Allow tooltip to load if it appears\n",
    "\n",
    "        # Check for tooltip after hover\n",
    "        try:\n",
    "            tooltip = driver.find_element(By.XPATH, \"//div[@class='leaflet-tooltip leaflet-tooltip-top']\")\n",
    "            \n",
    "            # Print or store tooltip text\n",
    "            print(f\"Tooltip at ({x}, {y}): {tooltip.text}\")\n",
    "        except:\n",
    "            # No tooltip found; continue to next position\n",
    "            print(f\"No tooltip at ({x}, {y})\")\n",
    "\n",
    "        actions.move_to_element_with_offset(canva_ele[0], x_, y_ ).perform()\n",
    "\n",
    "driver.quit()"
   ]
  },
  {
   "cell_type": "code",
   "execution_count": null,
   "metadata": {},
   "outputs": [],
   "source": []
  }
 ],
 "metadata": {
  "kernelspec": {
   "display_name": "ait",
   "language": "python",
   "name": "python3"
  },
  "language_info": {
   "codemirror_mode": {
    "name": "ipython",
    "version": 3
   },
   "file_extension": ".py",
   "mimetype": "text/x-python",
   "name": "python",
   "nbconvert_exporter": "python",
   "pygments_lexer": "ipython3",
   "version": "3.11.9"
  }
 },
 "nbformat": 4,
 "nbformat_minor": 2
}
