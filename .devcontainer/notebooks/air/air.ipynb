{
 "cells": [
  {
   "cell_type": "code",
   "execution_count": 19,
   "metadata": {},
   "outputs": [],
   "source": [
    "import pandas as pd\n",
    "import numpy as np\n",
    "import matplotlib.pyplot as plt\n",
    "import seaborn as sns\n",
    "\n",
    "import warnings\n",
    "warnings.filterwarnings('ignore')"
   ]
  },
  {
   "cell_type": "code",
   "execution_count": 29,
   "metadata": {
    "vscode": {
     "languageId": "ruby"
    }
   },
   "outputs": [],
   "source": [
    "def process_air_quality_data(file_path, location, start_date='2017-01-01', end_date='2023-12-31'):\n",
    "    # Read the CSV file\n",
    "    df = pd.read_csv(file_path)\n",
    "    \n",
    "    # Strip whitespace from column names\n",
    "    df.columns = df.columns.str.strip()\n",
    "    \n",
    "    # Convert columns to numeric, coercing errors to NaN\n",
    "    for col in ['pm25', 'pm10', 'o3', 'no2', 'so2', 'co']:\n",
    "        df[col] = pd.to_numeric(df[col], errors='coerce')\n",
    "    \n",
    "    # Convert the 'date' column to datetime format\n",
    "    df['date'] = pd.to_datetime(df['date'], format='%Y/%m/%d')\n",
    "    \n",
    "    # Filter the data between the specified dates\n",
    "    df_filtered = df[(df['date'] >= start_date) & (df['date'] <= end_date)]\n",
    "    \n",
    "    # Extract year and month from the 'date' column\n",
    "    df_filtered['year'] = df_filtered['date'].dt.year\n",
    "    df_filtered['month'] = df_filtered['date'].dt.month\n",
    "    \n",
    "    # Group by year and month and calculate the mean for each pollutant\n",
    "    df_monthly_avg = df_filtered.groupby(['year', 'month']).mean().reset_index()\n",
    "\n",
    "    df_monthly_avg['location'] = location\n",
    "    \n",
    "    return df_filtered, df_monthly_avg\n",
    "\n",
    "# Example usage\n",
    "# file_path = '../../../data/raw/aman/chulalongkorn-hospital, bangkok-air-quality.csv'\n",
    "# df_filtered_hospital, df_monthly_avg = process_air_quality_data(file_path)"
   ]
  },
  {
   "cell_type": "code",
   "execution_count": 30,
   "metadata": {},
   "outputs": [],
   "source": [
    "file_path = '../../../data/raw/ishika/thonburi-power-sub-station.csv'\n",
    "df_filtered_power, df_monthly_avg_power = process_air_quality_data(file_path, location='thonburi-power')"
   ]
  },
  {
   "cell_type": "code",
   "execution_count": 31,
   "metadata": {},
   "outputs": [],
   "source": [
    "file_path = '../../../data/raw/aman/city-hall, samut prakan-air-quality.csv'\n",
    "df_filtered_prakan, df_monthly_avg_prakan = process_air_quality_data(file_path, location='samut-prakan')"
   ]
  },
  {
   "cell_type": "code",
   "execution_count": 32,
   "metadata": {},
   "outputs": [],
   "source": [
    "file_path = '../../../data/raw/aman/chulalongkorn-hospital, bangkok-air-quality.csv'\n",
    "df_filtered_hospital, df_monthly_avg_hospital = process_air_quality_data(file_path, location='chulalongkorn-hospital')"
   ]
  },
  {
   "cell_type": "code",
   "execution_count": 33,
   "metadata": {},
   "outputs": [],
   "source": [
    "file_path = '../../../data/raw/dataset-bids/highway-district, samut sakhon-air-quality.csv'\n",
    "df_filtered_sakhon, df_monthly_avg_sakhon = process_air_quality_data(file_path, location='samut-sakhon')"
   ]
  },
  {
   "cell_type": "code",
   "execution_count": 36,
   "metadata": {},
   "outputs": [],
   "source": [
    "final_df = pd.concat([df_monthly_avg_power, df_monthly_avg_prakan, df_monthly_avg_hospital, df_monthly_avg_sakhon])\n",
    "final_df.to_csv('../../../data/processed/air/air_quality.csv')"
   ]
  },
  {
   "cell_type": "code",
   "execution_count": null,
   "metadata": {},
   "outputs": [],
   "source": []
  }
 ],
 "metadata": {
  "kernelspec": {
   "display_name": "ait",
   "language": "python",
   "name": "python3"
  },
  "language_info": {
   "codemirror_mode": {
    "name": "ipython",
    "version": 3
   },
   "file_extension": ".py",
   "mimetype": "text/x-python",
   "name": "python",
   "nbconvert_exporter": "python",
   "pygments_lexer": "ipython3",
   "version": "3.11.9"
  }
 },
 "nbformat": 4,
 "nbformat_minor": 2
}
